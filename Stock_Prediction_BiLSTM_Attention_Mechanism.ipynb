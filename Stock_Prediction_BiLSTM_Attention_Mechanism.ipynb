{
  "cells": [
    {
      "cell_type": "code",
      "execution_count": 1,
      "metadata": {
        "id": "YaWgVLaXyolo"
      },
      "outputs": [],
      "source": [
        "from keras.layers import Input, Dense, LSTM,Conv1D,Dropout,Bidirectional,Multiply\n",
        "from keras.models import Model\n",
        "# from attention_utils import get_activationsfrom keras.layers import merge\n",
        "from keras.layers.core import *\n",
        "from keras.layers.recurrent import LSTM\n",
        "from keras.models import *\n",
        "import  pandas as pd\n",
        "import  numpy as np\n",
        "import keras.backend as K\n",
        "from keras.layers import concatenate\n",
        "import xgboost as xgb\n"
      ]
    },
    {
      "cell_type": "code",
      "execution_count": 4,
      "metadata": {
        "colab": {
          "base_uri": "https://localhost:8080/"
        },
        "id": "h8eUz6ET0xjI",
        "outputId": "a18aa917-997e-4f82-f505-3b103f992795"
      },
      "outputs": [
        {
          "output_type": "stream",
          "name": "stdout",
          "text": [
            "Mounted at /content/drive\n"
          ]
        }
      ],
      "source": [
        "from google.colab import drive\n",
        "drive.mount('/content/drive')"
      ]
    },
    {
      "cell_type": "code",
      "execution_count": 5,
      "metadata": {
        "id": "D-uF3f_J01xa"
      },
      "outputs": [],
      "source": [
        "mng=pd.read_csv('/content/drive/MyDrive/MANAG.csv')\n",
        "mng.Date=pd.to_datetime(mng.Date ,format='%Y/%m/%d')"
      ]
    },
    {
      "cell_type": "code",
      "execution_count": 6,
      "metadata": {
        "colab": {
          "base_uri": "https://localhost:8080/",
          "height": 206
        },
        "id": "7p3AqFya1cRz",
        "outputId": "57fb56f7-546a-4fe3-aee0-5f38679295d6"
      },
      "outputs": [
        {
          "output_type": "execute_result",
          "data": {
            "text/plain": [
              "        Date  Ouverture  Plus haut  Plus bas    Prix    Quantité\n",
              "0 2000-07-11       0.00     534.90    534.90  534.90  2190942.50\n",
              "1 2000-07-12       0.00     534.90    534.90  534.90        0.00\n",
              "2 2000-07-13     636.83     636.83    636.83  636.83   160361.25\n",
              "3 2000-07-14     611.59     611.59    611.59  611.59    36120.32\n",
              "4 2000-07-17     611.59     611.59    611.59  611.59    13980.46"
            ],
            "text/html": [
              "\n",
              "  <div id=\"df-c764966d-c3f0-49bd-9eed-c893c52f09a6\">\n",
              "    <div class=\"colab-df-container\">\n",
              "      <div>\n",
              "<style scoped>\n",
              "    .dataframe tbody tr th:only-of-type {\n",
              "        vertical-align: middle;\n",
              "    }\n",
              "\n",
              "    .dataframe tbody tr th {\n",
              "        vertical-align: top;\n",
              "    }\n",
              "\n",
              "    .dataframe thead th {\n",
              "        text-align: right;\n",
              "    }\n",
              "</style>\n",
              "<table border=\"1\" class=\"dataframe\">\n",
              "  <thead>\n",
              "    <tr style=\"text-align: right;\">\n",
              "      <th></th>\n",
              "      <th>Date</th>\n",
              "      <th>Ouverture</th>\n",
              "      <th>Plus haut</th>\n",
              "      <th>Plus bas</th>\n",
              "      <th>Prix</th>\n",
              "      <th>Quantité</th>\n",
              "    </tr>\n",
              "  </thead>\n",
              "  <tbody>\n",
              "    <tr>\n",
              "      <th>0</th>\n",
              "      <td>2000-07-11</td>\n",
              "      <td>0.00</td>\n",
              "      <td>534.90</td>\n",
              "      <td>534.90</td>\n",
              "      <td>534.90</td>\n",
              "      <td>2190942.50</td>\n",
              "    </tr>\n",
              "    <tr>\n",
              "      <th>1</th>\n",
              "      <td>2000-07-12</td>\n",
              "      <td>0.00</td>\n",
              "      <td>534.90</td>\n",
              "      <td>534.90</td>\n",
              "      <td>534.90</td>\n",
              "      <td>0.00</td>\n",
              "    </tr>\n",
              "    <tr>\n",
              "      <th>2</th>\n",
              "      <td>2000-07-13</td>\n",
              "      <td>636.83</td>\n",
              "      <td>636.83</td>\n",
              "      <td>636.83</td>\n",
              "      <td>636.83</td>\n",
              "      <td>160361.25</td>\n",
              "    </tr>\n",
              "    <tr>\n",
              "      <th>3</th>\n",
              "      <td>2000-07-14</td>\n",
              "      <td>611.59</td>\n",
              "      <td>611.59</td>\n",
              "      <td>611.59</td>\n",
              "      <td>611.59</td>\n",
              "      <td>36120.32</td>\n",
              "    </tr>\n",
              "    <tr>\n",
              "      <th>4</th>\n",
              "      <td>2000-07-17</td>\n",
              "      <td>611.59</td>\n",
              "      <td>611.59</td>\n",
              "      <td>611.59</td>\n",
              "      <td>611.59</td>\n",
              "      <td>13980.46</td>\n",
              "    </tr>\n",
              "  </tbody>\n",
              "</table>\n",
              "</div>\n",
              "      <button class=\"colab-df-convert\" onclick=\"convertToInteractive('df-c764966d-c3f0-49bd-9eed-c893c52f09a6')\"\n",
              "              title=\"Convert this dataframe to an interactive table.\"\n",
              "              style=\"display:none;\">\n",
              "        \n",
              "  <svg xmlns=\"http://www.w3.org/2000/svg\" height=\"24px\"viewBox=\"0 0 24 24\"\n",
              "       width=\"24px\">\n",
              "    <path d=\"M0 0h24v24H0V0z\" fill=\"none\"/>\n",
              "    <path d=\"M18.56 5.44l.94 2.06.94-2.06 2.06-.94-2.06-.94-.94-2.06-.94 2.06-2.06.94zm-11 1L8.5 8.5l.94-2.06 2.06-.94-2.06-.94L8.5 2.5l-.94 2.06-2.06.94zm10 10l.94 2.06.94-2.06 2.06-.94-2.06-.94-.94-2.06-.94 2.06-2.06.94z\"/><path d=\"M17.41 7.96l-1.37-1.37c-.4-.4-.92-.59-1.43-.59-.52 0-1.04.2-1.43.59L10.3 9.45l-7.72 7.72c-.78.78-.78 2.05 0 2.83L4 21.41c.39.39.9.59 1.41.59.51 0 1.02-.2 1.41-.59l7.78-7.78 2.81-2.81c.8-.78.8-2.07 0-2.86zM5.41 20L4 18.59l7.72-7.72 1.47 1.35L5.41 20z\"/>\n",
              "  </svg>\n",
              "      </button>\n",
              "      \n",
              "  <style>\n",
              "    .colab-df-container {\n",
              "      display:flex;\n",
              "      flex-wrap:wrap;\n",
              "      gap: 12px;\n",
              "    }\n",
              "\n",
              "    .colab-df-convert {\n",
              "      background-color: #E8F0FE;\n",
              "      border: none;\n",
              "      border-radius: 50%;\n",
              "      cursor: pointer;\n",
              "      display: none;\n",
              "      fill: #1967D2;\n",
              "      height: 32px;\n",
              "      padding: 0 0 0 0;\n",
              "      width: 32px;\n",
              "    }\n",
              "\n",
              "    .colab-df-convert:hover {\n",
              "      background-color: #E2EBFA;\n",
              "      box-shadow: 0px 1px 2px rgba(60, 64, 67, 0.3), 0px 1px 3px 1px rgba(60, 64, 67, 0.15);\n",
              "      fill: #174EA6;\n",
              "    }\n",
              "\n",
              "    [theme=dark] .colab-df-convert {\n",
              "      background-color: #3B4455;\n",
              "      fill: #D2E3FC;\n",
              "    }\n",
              "\n",
              "    [theme=dark] .colab-df-convert:hover {\n",
              "      background-color: #434B5C;\n",
              "      box-shadow: 0px 1px 3px 1px rgba(0, 0, 0, 0.15);\n",
              "      filter: drop-shadow(0px 1px 2px rgba(0, 0, 0, 0.3));\n",
              "      fill: #FFFFFF;\n",
              "    }\n",
              "  </style>\n",
              "\n",
              "      <script>\n",
              "        const buttonEl =\n",
              "          document.querySelector('#df-c764966d-c3f0-49bd-9eed-c893c52f09a6 button.colab-df-convert');\n",
              "        buttonEl.style.display =\n",
              "          google.colab.kernel.accessAllowed ? 'block' : 'none';\n",
              "\n",
              "        async function convertToInteractive(key) {\n",
              "          const element = document.querySelector('#df-c764966d-c3f0-49bd-9eed-c893c52f09a6');\n",
              "          const dataTable =\n",
              "            await google.colab.kernel.invokeFunction('convertToInteractive',\n",
              "                                                     [key], {});\n",
              "          if (!dataTable) return;\n",
              "\n",
              "          const docLinkHtml = 'Like what you see? Visit the ' +\n",
              "            '<a target=\"_blank\" href=https://colab.research.google.com/notebooks/data_table.ipynb>data table notebook</a>'\n",
              "            + ' to learn more about interactive tables.';\n",
              "          element.innerHTML = '';\n",
              "          dataTable['output_type'] = 'display_data';\n",
              "          await google.colab.output.renderOutput(dataTable, element);\n",
              "          const docLink = document.createElement('div');\n",
              "          docLink.innerHTML = docLinkHtml;\n",
              "          element.appendChild(docLink);\n",
              "        }\n",
              "      </script>\n",
              "    </div>\n",
              "  </div>\n",
              "  "
            ]
          },
          "metadata": {},
          "execution_count": 6
        }
      ],
      "source": [
        "mng.head()\n"
      ]
    },
    {
      "cell_type": "code",
      "execution_count": 7,
      "metadata": {
        "colab": {
          "base_uri": "https://localhost:8080/",
          "height": 412
        },
        "id": "JWgk3MdH1DBx",
        "outputId": "cd645f3d-ab2b-4ed7-a584-9880350c1ff5"
      },
      "outputs": [
        {
          "output_type": "display_data",
          "data": {
            "text/plain": [
              "<Figure size 1152x432 with 1 Axes>"
            ],
            "image/png": "[encoded data removed]"
          },
          "metadata": {
            "needs_background": "light"
          }
        }
      ],
      "source": [
        "import matplotlib.pyplot as plt\n",
        "%matplotlib inline\n",
        "plt.figure(figsize=(16,6))\n",
        "plt.title('Close Price History')\n",
        "plt.plot(mng['Date'], mng['Prix'])\n",
        "plt.xlabel('Date', fontsize=18)\n",
        "plt.ylabel('Close Price DHS', fontsize=10)\n",
        "plt.show()"
      ]
    },
    {
      "cell_type": "code",
      "execution_count": 8,
      "metadata": {
        "id": "SHxGnGidywJ2"
      },
      "outputs": [],
      "source": [
        "def create_dataset(dataset, look_back):\n",
        "    dataX, dataY = [], []\n",
        "    for i in range(len(dataset)-look_back-1):\n",
        "        a = dataset[i:(i+look_back),:]\n",
        "        dataX.append(a)\n",
        "        dataY.append(dataset[i + look_back,:])\n",
        "    TrainX = np.array(dataX)\n",
        "    Train_Y = np.array(dataY)\n",
        "\n",
        "    return TrainX, Train_Y\n",
        "def NormalizeMult(data):\n",
        "    \n",
        "    data = np.array(data)\n",
        "    normalize = np.arange(2*data.shape[1],dtype='float64')\n",
        "\n",
        "    normalize = normalize.reshape(data.shape[1],2)\n",
        "    print(normalize.shape)\n",
        "    for i in range(0,data.shape[1]):\n",
        "        \n",
        "        list = data[:,i]\n",
        "        listlow,listhigh =  np.percentile(list, [0, 100])\n",
        "        # print(i)\n",
        "        normalize[i,0] = listlow\n",
        "        normalize[i,1] = listhigh\n",
        "        delta = listhigh - listlow\n",
        "        if delta != 0:\n",
        "            \n",
        "            for j in range(0,data.shape[0]):\n",
        "                data[j,i]  =  (data[j,i] - listlow)/delta\n",
        "    #np.save(\"./normalize.npy\",normalize)\n",
        "    return  data,normalize\n",
        "\n",
        " \n",
        "def FNormalizeMult(data,normalize):\n",
        "    data = np.array(data)\n",
        "    for i in  range(0,data.shape[1]):\n",
        "        listlow =  normalize[i,0]\n",
        "        listhigh = normalize[i,1]\n",
        "        delta = listhigh - listlow\n",
        "        if delta != 0:\n",
        "            \n",
        "            for j in range(0,data.shape[0]):\n",
        "                data[j,i]  =  data[j,i]*delta + listlow\n",
        "\n",
        "    return data\n",
        "\n",
        "    \n",
        "def get_activations(model, inputs, print_shape_only=False, layer_name=None):\n",
        "  \n",
        "    print('----- activations -----')\n",
        "    activations = []\n",
        "    inp = model.input\n",
        "    if layer_name is None:\n",
        "        outputs = [layer.output for layer in model.layers]\n",
        "    else:\n",
        "        outputs = [layer.output for layer in model.layers if layer.name == layer_name]  # all layer outputs\n",
        "    funcs = [K.function([inp] + [K.learning_phase()], [out]) for out in outputs]  # evaluation functions\n",
        "    layer_outputs = [func([inputs, 1.])[0] for func in funcs]\n",
        "    for layer_activations in layer_outputs:\n",
        "        activations.append(layer_activations)\n",
        "        if print_shape_only:\n",
        "            print(layer_activations.shape)\n",
        "        else:\n",
        "            print('shape为',layer_activations.shape)\n",
        "            print(layer_activations)\n",
        "    return activations\n",
        "\n",
        "\n",
        "def get_data(n, input_dim, attention_column=1):\n",
        "    \"\"\"\n",
        "    Data generation. x is purely random except that it's first value equals the target y.\n",
        "    In practice, the network should learn that the target = x[attention_column].\n",
        "    Therefore, most of its attention should be focused on the value addressed by attention_column.\n",
        "    :param n: the number of samples to retrieve.\n",
        "    :param input_dim: the number of dimensions of each element in the series.\n",
        "    :param attention_column: the column linked to the target. Everything else is purely random.\n",
        "    :return: x: model inputs, y: model targets\n",
        "    \"\"\"\n",
        "    x = np.random.standard_normal(size=(n, input_dim))\n",
        "    y = np.random.randint(low=0, high=2, size=(n, 1))\n",
        "    x[:, attention_column] = y[:, 0]\n",
        "    return x, y\n",
        "\n",
        "\n",
        "def get_data_recurrent(n, time_steps, input_dim, attention_column=10):\n",
        "    \"\"\"\n",
        "    Data generation. x is purely random except that it's first value equals the target y.\n",
        "    In practice, the network    should learn that the target = x[attention_column].\n",
        "    Therefore, most of its attention should be focused on the value addressed by attention_column.\n",
        "    :param n: the number of samples to retrieve.\n",
        "    :param time_steps: the number of time steps of your series.\n",
        "    :param input_dim: the number of dimensions of each element in the series.\n",
        "    :param attention_column: the column linked to the target. Everything else is purely random.\n",
        "    :return: x: model inputs, y: model targets\n",
        "    \"\"\"\n",
        "    x = np.random.standard_normal(size=(n, time_steps, input_dim))\n",
        "    y = np.random.randint(low=0, high=2, size=(n, 1))\n",
        "    x[:, attention_column, :] = np.tile(y[:], (1, input_dim))\n",
        "    return x, y\n",
        "\n",
        "\n",
        "def get_data_recurrent2(n, time_steps, input_dim, attention_dim=5):\n",
        "    x = np.random.standard_normal(size=(n, time_steps, input_dim))\n",
        "    y = np.random.randint(low=0, high=2, size=(n, 1))\n",
        "    x[:,:,attention_dim] =  np.tile(y[:], (1, time_steps))\n",
        "\n",
        "\n",
        "    return x,y\n",
        "\n"
      ]
    },
    {
      "cell_type": "code",
      "execution_count": 9,
      "metadata": {
        "id": "_8EFJ7sR0Kdw"
      },
      "outputs": [],
      "source": [
        "from keras.layers import multiply\n",
        "SINGLE_ATTENTION_VECTOR = False\n",
        "def attention_3d_block(inputs):\n",
        "    # inputs.shape = (batch_size, time_steps, input_dim)\n",
        "    input_dim = int(inputs.shape[2])\n",
        "    a = inputs\n",
        "    #a = Permute((2, 1))(inputs)\n",
        "    #a = Reshape((input_dim, TIME_STEPS))(a) # this line is not useful. It's just to know which dimension is what.\n",
        "    a = Dense(input_dim, activation='softmax')(a)\n",
        "    if SINGLE_ATTENTION_VECTOR:\n",
        "        a = Lambda(lambda x: K.mean(x, axis=1), name='dim_reduction')(a)\n",
        "        a = RepeatVector(input_dim)(a)\n",
        "    a_probs = Permute((1, 2), name='attention_vec')(a)\n",
        "\n",
        "    output_attention_mul = multiply([inputs, a_probs], name='attention_mul')#, mode='mul') \n",
        "    return output_attention_mul\n",
        "\n",
        "\n",
        "def attention_3d_block2(inputs, single_attention_vector=False):\n",
        "    time_steps = K.int_shape(inputs)[1]\n",
        "    input_dim = K.int_shape(inputs)[2]\n",
        "    a = Permute((2, 1))(inputs)\n",
        "    a = Dense(time_steps, activation='softmax')(a)\n",
        "    if single_attention_vector:\n",
        "        a = Lambda(lambda x: K.mean(x, axis=1))(a)\n",
        "        a = RepeatVector(input_dim)(a)\n",
        "\n",
        "    a_probs = Permute((2, 1))(a)\n",
        "  \n",
        "    output_attention_mul = Multiply()([inputs, a_probs])\n",
        "    return output_attention_mul"
      ]
    },
    {
      "cell_type": "code",
      "execution_count": 10,
      "metadata": {
        "id": "1ytZ9GMp0KuD"
      },
      "outputs": [],
      "source": [
        "def attention_model():\n",
        "    inputs = Input(shape=(TIME_STEPS, INPUT_DIMS))\n",
        "\n",
        "    x = Conv1D(filters = 64, kernel_size = 1, activation = 'relu')(inputs)  #, padding = 'same'\n",
        "    x = Dropout(0.3)(x)\n",
        "\n",
        "    #lstm_out = Bidirectional(LSTM(lstm_units, activation='relu'), name='bilstm')(x)\n",
        "    #对于GPU可以使用CuDNNLSTM\n",
        "    lstm_out = Bidirectional(LSTM(lstm_units, return_sequences=True))(x)\n",
        "    lstm_out = Dropout(0.3)(lstm_out)\n",
        "    attention_mul = attention_3d_block(lstm_out)\n",
        "    attention_mul = Flatten()(attention_mul)\n",
        "\n",
        "    output = Dense(1, activation='sigmoid')(attention_mul)\n",
        "    model = Model(inputs=[inputs], outputs=output)\n",
        "    return model"
      ]
    },
    {
      "cell_type": "code",
      "execution_count": 11,
      "metadata": {
        "colab": {
          "base_uri": "https://localhost:8080/"
        },
        "id": "-4-Ee43oznY4",
        "outputId": "c33255eb-9243-4195-8c11-b7427e1147b9"
      },
      "outputs": [
        {
          "output_type": "stream",
          "name": "stdout",
          "text": [
            "Index(['Ouverture', 'Plus haut', 'Plus bas', 'Prix', 'Quantité'], dtype='object')\n",
            "(5411, 5)\n"
          ]
        }
      ],
      "source": [
        "data = mng\n",
        "mng.drop('Date',axis=1,inplace=True)\n",
        "print(data.columns)\n",
        "print(data.shape)\n",
        "\n"
      ]
    },
    {
      "cell_type": "code",
      "execution_count": 12,
      "metadata": {
        "id": "jRJ2XJLEJakM"
      },
      "outputs": [],
      "source": [
        "def PredictWithData(data,data_yuan,name,modelname,INPUT_DIMS = 13,TIME_STEPS = 20):\n",
        "    print(data.columns)\n",
        "    yindex = data.columns.get_loc(name)\n",
        "    data = np.array(data, dtype='float64')\n",
        "    data, normalize = NormalizeMult(data)\n",
        "    data_y = data[:, yindex]\n",
        "    data_y = data_y.reshape(data_y.shape[0], 1)\n",
        "\n",
        "    testX, _ = create_dataset(data)\n",
        "    _, testY = create_dataset(data_y)\n",
        "    print(\"testX Y shape is:\", testX.shape, testY.shape)\n",
        "    if len(testY.shape) == 1:\n",
        "        testY = testY.reshape(-1, 1)\n",
        "\n",
        "    model = attention_model(INPUT_DIMS)\n",
        "    model.load_weights(modelname)\n",
        "    model.summary()\n",
        "    y_hat =  model.predict(testX)\n",
        "    testY, y_hat = xgb_scheduler(data_yuan, y_hat)\n",
        "    return y_hat, testY"
      ]
    },
    {
      "cell_type": "code",
      "source": [
        "def xgb_scheduler(data,y_hat):\n",
        "    close = data.pop('close')\n",
        "    data.insert(5, 'close', close)\n",
        "    train, test = prepare_data(data, n_test=len(y_hat), n_in=6, n_out=1)\n",
        "    testY, y_hat2 = walk_forward_validation(train, test)\n",
        "    return testY, y_hat2\n",
        "\n",
        "def xgboost_forecast(train, testX):\n",
        "    # transform list into array\n",
        "    train = np.asarray(train)\n",
        "    # print('train', train)\n",
        "    # split into input and output columns\n",
        "    trainX, trainy = train[:, :-1], train[:, -1]\n",
        "    # print('trainX', trainX, 'trainy', trainy)\n",
        "    # fit model\n",
        "    model = xgb.XGBRegressor(objective='reg:squarederror', n_estimators=20)\n",
        "    model.fit(trainX, trainy)\n",
        "    # make a one-step prediction\n",
        "    yhat = model.predict(np.asarray([testX]))\n",
        "    return yhat[0]\n",
        "\n",
        "def walk_forward_validation(train, test):\n",
        "    predictions = list()\n",
        "    train = train.values\n",
        "    history = [x for x in train]\n",
        "    # print('history', history)\n",
        "    for i in range(len(test)):\n",
        "        testX, testy = test.iloc[i, :-1], test.iloc[i, -1]\n",
        "        # print('i', i, testX, testy)\n",
        "        yhat = xgboost_forecast(history, testX)\n",
        "        predictions.append(yhat)\n",
        "        history.append(test.iloc[i, :])\n",
        "        print(i+1, '>expected=%.6f, predicted=%.6f' % (testy, yhat))\n",
        "    return test.iloc[:, -1],predictions"
      ],
      "metadata": {
        "id": "rSnoh0-bIgXF"
      },
      "execution_count": 13,
      "outputs": []
    },
    {
      "cell_type": "code",
      "execution_count": 75,
      "metadata": {
        "colab": {
          "base_uri": "https://localhost:8080/"
        },
        "id": "2Dy9pukCxVeu",
        "outputId": "d56d43af-b32c-49e6-9d32-055e94d4245d"
      },
      "outputs": [
        {
          "output_type": "stream",
          "name": "stdout",
          "text": [
            "len(train): 4328\n",
            "len(test): 1083\n"
          ]
        }
      ],
      "source": [
        "INPUT_DIMS = 5\n",
        "TIME_STEPS = 20\n",
        "lstm_units = 64\n",
        "train_size = int(len(data)*0.8)\n",
        "train = data.iloc[:train_size,:]\n",
        "test = data.iloc[train_size:,:]\n",
        "#train, test = train_test_split(data, test_size=0.1)\n",
        "print(\"len(train):\",len(train))\n",
        "print(\"len(test):\",len(test))"
      ]
    },
    {
      "cell_type": "code",
      "execution_count": null,
      "metadata": {
        "colab": {
          "base_uri": "https://localhost:8080/"
        },
        "id": "t3AJxzDWKxQa",
        "outputId": "55d77cf8-3eeb-4201-c17e-03170388adab"
      },
      "outputs": [
        {
          "data": {
            "text/plain": [
              "0        534.90\n",
              "1        534.90\n",
              "2        636.83\n",
              "3        611.59\n",
              "4        611.59\n",
              "         ...   \n",
              "5406    2250.00\n",
              "5407    2226.00\n",
              "5408    2240.00\n",
              "5409    2280.00\n",
              "5410    2270.00\n",
              "Name: Plus bas, Length: 5411, dtype: float64"
            ]
          },
          "execution_count": 124,
          "metadata": {},
          "output_type": "execute_result"
        }
      ],
      "source": [
        "mng.iloc[:,3]"
      ]
    },
    {
      "cell_type": "code",
      "execution_count": null,
      "metadata": {
        "id": "XUY8f-gOcnMU"
      },
      "outputs": [],
      "source": [
        "import keras.backend as K\n",
        "def r2_keras(y_true, y_pred):\n",
        "    \"\"\"Coefficient of Determination \n",
        "    \"\"\"\n",
        "    SS_res =  K.sum(K.square( y_true - y_pred ))\n",
        "    SS_tot = K.sum(K.square( y_true - K.mean(y_true) ) )\n",
        "    return ( 1 - SS_res/(SS_tot + K.epsilon()) )"
      ]
    },
    {
      "cell_type": "code",
      "execution_count": null,
      "metadata": {
        "colab": {
          "base_uri": "https://localhost:8080/"
        },
        "id": "IEy4zDaINKhr",
        "outputId": "30329b82-c4e9-4890-bc9d-622155f6e503"
      },
      "outputs": [
        {
          "name": "stdout",
          "output_type": "stream",
          "text": [
            "(5, 2)\n",
            "(4307, 20, 5) (4307, 1)\n",
            "Model: \"model_5\"\n",
            "__________________________________________________________________________________________________\n",
            " Layer (type)                   Output Shape         Param #     Connected to                     \n",
            "==================================================================================================\n",
            " input_6 (InputLayer)           [(None, 20, 5)]      0           []                               \n",
            "                                                                                                  \n",
            " conv1d_5 (Conv1D)              (None, 20, 64)       384         ['input_6[0][0]']                \n",
            "                                                                                                  \n",
            " dropout_10 (Dropout)           (None, 20, 64)       0           ['conv1d_5[0][0]']               \n",
            "                                                                                                  \n",
            " bidirectional_5 (Bidirectional  (None, 20, 128)     66048       ['dropout_10[0][0]']             \n",
            " )                                                                                                \n",
            "                                                                                                  \n",
            " dropout_11 (Dropout)           (None, 20, 128)      0           ['bidirectional_5[0][0]']        \n",
            "                                                                                                  \n",
            " dense_10 (Dense)               (None, 20, 128)      16512       ['dropout_11[0][0]']             \n",
            "                                                                                                  \n",
            " attention_vec (Permute)        (None, 20, 128)      0           ['dense_10[0][0]']               \n",
            "                                                                                                  \n",
            " attention_mul (Multiply)       (None, 20, 128)      0           ['dropout_11[0][0]',             \n",
            "                                                                  'attention_vec[0][0]']          \n",
            "                                                                                                  \n",
            " flatten_5 (Flatten)            (None, 2560)         0           ['attention_mul[0][0]']          \n",
            "                                                                                                  \n",
            " dense_11 (Dense)               (None, 1)            2561        ['flatten_5[0][0]']              \n",
            "                                                                                                  \n",
            "==================================================================================================\n",
            "Total params: 85,505\n",
            "Trainable params: 85,505\n",
            "Non-trainable params: 0\n",
            "__________________________________________________________________________________________________\n",
            "Epoch 1/50\n",
            "61/61 [==============================] - 17s 200ms/step - loss: 0.0732 - mae: 0.2377 - r2_keras: -0.0583 - val_loss: 0.0305 - val_mae: 0.1487 - val_r2_keras: -44.4795\n",
            "Epoch 2/50\n",
            "61/61 [==============================] - 12s 191ms/step - loss: 0.0079 - mae: 0.0672 - r2_keras: 0.8839 - val_loss: 0.0113 - val_mae: 0.0926 - val_r2_keras: -13.2822\n",
            "Epoch 3/50\n",
            "61/61 [==============================] - 13s 207ms/step - loss: 0.0031 - mae: 0.0430 - r2_keras: 0.9549 - val_loss: 0.0030 - val_mae: 0.0393 - val_r2_keras: -4.2691\n",
            "Epoch 4/50\n",
            "61/61 [==============================] - 11s 189ms/step - loss: 0.0015 - mae: 0.0304 - r2_keras: 0.9774 - val_loss: 0.0018 - val_mae: 0.0312 - val_r2_keras: -2.1498\n",
            "Epoch 5/50\n",
            "61/61 [==============================] - 12s 204ms/step - loss: 0.0012 - mae: 0.0267 - r2_keras: 0.9819 - val_loss: 0.0026 - val_mae: 0.0366 - val_r2_keras: -4.1192\n",
            "Epoch 6/50\n",
            "61/61 [==============================] - 12s 190ms/step - loss: 0.0011 - mae: 0.0247 - r2_keras: 0.9845 - val_loss: 0.0020 - val_mae: 0.0308 - val_r2_keras: -2.9362\n",
            "Epoch 7/50\n",
            "61/61 [==============================] - 12s 193ms/step - loss: 0.0010 - mae: 0.0243 - r2_keras: 0.9850 - val_loss: 0.0027 - val_mae: 0.0362 - val_r2_keras: -4.3543\n",
            "Epoch 8/50\n",
            "61/61 [==============================] - 14s 223ms/step - loss: 9.1805e-04 - mae: 0.0228 - r2_keras: 0.9865 - val_loss: 0.0019 - val_mae: 0.0297 - val_r2_keras: -2.4785\n",
            "Epoch 9/50\n",
            "61/61 [==============================] - 12s 190ms/step - loss: 9.5563e-04 - mae: 0.0233 - r2_keras: 0.9860 - val_loss: 0.0021 - val_mae: 0.0312 - val_r2_keras: -2.9592\n",
            "Epoch 10/50\n",
            "61/61 [==============================] - 11s 188ms/step - loss: 9.2456e-04 - mae: 0.0227 - r2_keras: 0.9865 - val_loss: 0.0023 - val_mae: 0.0334 - val_r2_keras: -3.6290\n",
            "Epoch 11/50\n",
            "61/61 [==============================] - 12s 191ms/step - loss: 8.1124e-04 - mae: 0.0213 - r2_keras: 0.9881 - val_loss: 0.0025 - val_mae: 0.0339 - val_r2_keras: -3.9678\n",
            "Epoch 12/50\n",
            "61/61 [==============================] - 15s 245ms/step - loss: 8.0232e-04 - mae: 0.0211 - r2_keras: 0.9882 - val_loss: 0.0017 - val_mae: 0.0286 - val_r2_keras: -2.1923\n",
            "Epoch 13/50\n",
            "61/61 [==============================] - 12s 193ms/step - loss: 7.6568e-04 - mae: 0.0206 - r2_keras: 0.9888 - val_loss: 0.0024 - val_mae: 0.0344 - val_r2_keras: -3.6550\n",
            "Epoch 14/50\n",
            "61/61 [==============================] - 12s 191ms/step - loss: 7.7259e-04 - mae: 0.0206 - r2_keras: 0.9885 - val_loss: 0.0021 - val_mae: 0.0316 - val_r2_keras: -3.1423\n",
            "Epoch 15/50\n",
            "61/61 [==============================] - 12s 190ms/step - loss: 7.9110e-04 - mae: 0.0208 - r2_keras: 0.9886 - val_loss: 0.0021 - val_mae: 0.0316 - val_r2_keras: -2.9102\n",
            "Epoch 16/50\n",
            "61/61 [==============================] - 12s 189ms/step - loss: 7.2226e-04 - mae: 0.0198 - r2_keras: 0.9895 - val_loss: 0.0019 - val_mae: 0.0303 - val_r2_keras: -2.7601\n",
            "Epoch 17/50\n",
            "61/61 [==============================] - 12s 190ms/step - loss: 7.3970e-04 - mae: 0.0199 - r2_keras: 0.9892 - val_loss: 0.0023 - val_mae: 0.0332 - val_r2_keras: -3.5893\n",
            "Epoch 18/50\n",
            "61/61 [==============================] - 11s 188ms/step - loss: 6.8962e-04 - mae: 0.0195 - r2_keras: 0.9900 - val_loss: 0.0024 - val_mae: 0.0337 - val_r2_keras: -3.6858\n",
            "Epoch 19/50\n",
            "61/61 [==============================] - 12s 191ms/step - loss: 7.0150e-04 - mae: 0.0194 - r2_keras: 0.9898 - val_loss: 0.0021 - val_mae: 0.0316 - val_r2_keras: -2.9583\n",
            "Epoch 20/50\n",
            "61/61 [==============================] - 12s 189ms/step - loss: 6.6232e-04 - mae: 0.0190 - r2_keras: 0.9904 - val_loss: 0.0018 - val_mae: 0.0297 - val_r2_keras: -2.3285\n",
            "Epoch 21/50\n",
            "61/61 [==============================] - 12s 189ms/step - loss: 6.6883e-04 - mae: 0.0187 - r2_keras: 0.9902 - val_loss: 0.0017 - val_mae: 0.0283 - val_r2_keras: -2.2343\n",
            "Epoch 22/50\n",
            "61/61 [==============================] - 12s 189ms/step - loss: 6.3524e-04 - mae: 0.0185 - r2_keras: 0.9908 - val_loss: 0.0021 - val_mae: 0.0321 - val_r2_keras: -3.0918\n",
            "Epoch 23/50\n",
            "61/61 [==============================] - 12s 194ms/step - loss: 6.6849e-04 - mae: 0.0189 - r2_keras: 0.9901 - val_loss: 0.0022 - val_mae: 0.0349 - val_r2_keras: -2.8956\n",
            "Epoch 24/50\n",
            "61/61 [==============================] - 13s 212ms/step - loss: 6.4964e-04 - mae: 0.0185 - r2_keras: 0.9906 - val_loss: 0.0019 - val_mae: 0.0306 - val_r2_keras: -2.6272\n",
            "Epoch 25/50\n",
            "61/61 [==============================] - 12s 192ms/step - loss: 6.4019e-04 - mae: 0.0182 - r2_keras: 0.9907 - val_loss: 0.0022 - val_mae: 0.0336 - val_r2_keras: -3.0050\n",
            "Epoch 26/50\n",
            "61/61 [==============================] - 12s 189ms/step - loss: 5.9023e-04 - mae: 0.0176 - r2_keras: 0.9913 - val_loss: 0.0016 - val_mae: 0.0275 - val_r2_keras: -1.8959\n",
            "Epoch 27/50\n",
            "61/61 [==============================] - 12s 190ms/step - loss: 6.1364e-04 - mae: 0.0181 - r2_keras: 0.9911 - val_loss: 0.0016 - val_mae: 0.0284 - val_r2_keras: -1.9058\n",
            "Epoch 28/50\n",
            "61/61 [==============================] - 12s 190ms/step - loss: 5.9275e-04 - mae: 0.0178 - r2_keras: 0.9914 - val_loss: 0.0019 - val_mae: 0.0301 - val_r2_keras: -2.4829\n",
            "Epoch 29/50\n",
            "61/61 [==============================] - 12s 189ms/step - loss: 6.1410e-04 - mae: 0.0180 - r2_keras: 0.9911 - val_loss: 0.0019 - val_mae: 0.0317 - val_r2_keras: -2.2405\n",
            "Epoch 30/50\n",
            "61/61 [==============================] - 12s 193ms/step - loss: 5.8804e-04 - mae: 0.0174 - r2_keras: 0.9915 - val_loss: 0.0018 - val_mae: 0.0291 - val_r2_keras: -2.2665\n",
            "Epoch 31/50\n",
            "61/61 [==============================] - 12s 192ms/step - loss: 5.6850e-04 - mae: 0.0172 - r2_keras: 0.9918 - val_loss: 0.0022 - val_mae: 0.0346 - val_r2_keras: -3.0184\n",
            "Epoch 32/50\n",
            "61/61 [==============================] - 11s 188ms/step - loss: 5.6568e-04 - mae: 0.0172 - r2_keras: 0.9917 - val_loss: 0.0017 - val_mae: 0.0292 - val_r2_keras: -2.0628\n",
            "Epoch 33/50\n",
            "61/61 [==============================] - 12s 191ms/step - loss: 5.8788e-04 - mae: 0.0176 - r2_keras: 0.9914 - val_loss: 0.0024 - val_mae: 0.0357 - val_r2_keras: -3.4667\n",
            "Epoch 34/50\n",
            "61/61 [==============================] - 12s 193ms/step - loss: 5.7036e-04 - mae: 0.0175 - r2_keras: 0.9916 - val_loss: 0.0020 - val_mae: 0.0316 - val_r2_keras: -2.8697\n",
            "Epoch 35/50\n",
            "61/61 [==============================] - 12s 190ms/step - loss: 5.7399e-04 - mae: 0.0172 - r2_keras: 0.9916 - val_loss: 0.0021 - val_mae: 0.0328 - val_r2_keras: -2.8004\n",
            "Epoch 36/50\n",
            "61/61 [==============================] - 14s 223ms/step - loss: 5.6580e-04 - mae: 0.0174 - r2_keras: 0.9919 - val_loss: 0.0022 - val_mae: 0.0329 - val_r2_keras: -3.1112\n",
            "Epoch 37/50\n",
            "61/61 [==============================] - 12s 193ms/step - loss: 5.8145e-04 - mae: 0.0173 - r2_keras: 0.9916 - val_loss: 0.0018 - val_mae: 0.0296 - val_r2_keras: -2.4061\n",
            "Epoch 38/50\n",
            "61/61 [==============================] - 12s 192ms/step - loss: 5.3388e-04 - mae: 0.0166 - r2_keras: 0.9921 - val_loss: 0.0019 - val_mae: 0.0304 - val_r2_keras: -2.4925\n",
            "Epoch 39/50\n",
            "61/61 [==============================] - 12s 191ms/step - loss: 5.4043e-04 - mae: 0.0164 - r2_keras: 0.9921 - val_loss: 0.0019 - val_mae: 0.0303 - val_r2_keras: -2.5065\n",
            "Epoch 40/50\n",
            "61/61 [==============================] - 12s 193ms/step - loss: 5.2974e-04 - mae: 0.0165 - r2_keras: 0.9923 - val_loss: 0.0022 - val_mae: 0.0333 - val_r2_keras: -2.9742\n",
            "Epoch 41/50\n",
            "61/61 [==============================] - 12s 193ms/step - loss: 5.1665e-04 - mae: 0.0164 - r2_keras: 0.9925 - val_loss: 0.0017 - val_mae: 0.0292 - val_r2_keras: -2.2145\n",
            "Epoch 42/50\n",
            "61/61 [==============================] - 12s 190ms/step - loss: 4.7939e-04 - mae: 0.0158 - r2_keras: 0.9930 - val_loss: 0.0020 - val_mae: 0.0321 - val_r2_keras: -2.6785\n",
            "Epoch 43/50\n",
            "61/61 [==============================] - 12s 190ms/step - loss: 5.0984e-04 - mae: 0.0162 - r2_keras: 0.9926 - val_loss: 0.0032 - val_mae: 0.0413 - val_r2_keras: -4.7746\n",
            "Epoch 44/50\n",
            "61/61 [==============================] - 11s 187ms/step - loss: 4.8722e-04 - mae: 0.0158 - r2_keras: 0.9928 - val_loss: 0.0022 - val_mae: 0.0340 - val_r2_keras: -2.8479\n",
            "Epoch 45/50\n",
            "61/61 [==============================] - 12s 190ms/step - loss: 5.0414e-04 - mae: 0.0162 - r2_keras: 0.9926 - val_loss: 0.0018 - val_mae: 0.0297 - val_r2_keras: -2.4209\n",
            "Epoch 46/50\n",
            "61/61 [==============================] - 12s 191ms/step - loss: 5.1178e-04 - mae: 0.0161 - r2_keras: 0.9925 - val_loss: 0.0018 - val_mae: 0.0303 - val_r2_keras: -2.4259\n",
            "Epoch 47/50\n",
            "61/61 [==============================] - 12s 193ms/step - loss: 4.7455e-04 - mae: 0.0156 - r2_keras: 0.9931 - val_loss: 0.0022 - val_mae: 0.0350 - val_r2_keras: -2.8702\n",
            "Epoch 48/50\n",
            "61/61 [==============================] - 12s 189ms/step - loss: 4.6251e-04 - mae: 0.0155 - r2_keras: 0.9932 - val_loss: 0.0024 - val_mae: 0.0355 - val_r2_keras: -3.3997\n",
            "Epoch 49/50\n",
            "61/61 [==============================] - 12s 191ms/step - loss: 4.6676e-04 - mae: 0.0153 - r2_keras: 0.9932 - val_loss: 0.0016 - val_mae: 0.0285 - val_r2_keras: -1.7941\n",
            "Epoch 50/50\n",
            "61/61 [==============================] - 12s 193ms/step - loss: 4.8059e-04 - mae: 0.0158 - r2_keras: 0.9930 - val_loss: 0.0022 - val_mae: 0.0349 - val_r2_keras: -2.6797\n"
          ]
        }
      ],
      "source": [
        "from keras.callbacks import EarlyStopping\n",
        "from keras.callbacks import ModelCheckpoint\n",
        "train,normalize = NormalizeMult(train)\n",
        "priceData = train[:,3].reshape(len(train),1)\n",
        "\n",
        "train_X, _ = create_dataset(train,TIME_STEPS)\n",
        "_ , train_Y = create_dataset(priceData,TIME_STEPS)\n",
        "print(train_X.shape,train_Y.shape)\n",
        "\n",
        "m = attention_model()\n",
        "m.summary()\n",
        "#m.compile(optimizer='adam', loss='mse')\n",
        "m.compile(loss='mse', optimizer='adam',metrics=['mae',r2_keras])\n",
        "\n",
        "# fit the network\n",
        "history =  m.fit([train_X], train_Y, epochs=50, batch_size=64, validation_split=0.1)\n",
        "# history = m.fit([train_X], train_Y, epochs=10, batch_size=64, validation_split=0.05, verbose=2,\n",
        "#          callbacks = [EarlyStopping(monitor='val_loss', min_delta=0, patience=10, verbose=0, mode='min'),\n",
        "#                       ModelCheckpoint(m,monitor='val_loss', save_best_only=True, mode='min', verbose=0)]\n",
        "#          )"
      ]
    },
    {
      "cell_type": "code",
      "execution_count": 21,
      "metadata": {
        "id": "AycybA57MqAG"
      },
      "outputs": [],
      "source": [
        "import matplotlib.pyplot as plt\n",
        "\n",
        "# # summarize history for R^2\n",
        "# fig_acc = plt.figure(figsize=(10, 10))\n",
        "# plt.plot(history.history['r2_keras'])\n",
        "# plt.plot(history.history['val_r2_keras'])\n",
        "# plt.title('model r^2')\n",
        "# plt.ylabel('R^2')\n",
        "# plt.xlabel('epoch')\n",
        "# plt.legend(['train', 'validation'], loc='upper left')\n",
        "# plt.show()\n",
        "\n"
      ]
    },
    {
      "cell_type": "code",
      "execution_count": 22,
      "metadata": {
        "colab": {
          "base_uri": "https://localhost:8080/",
          "height": 621
        },
        "id": "lCy15t9XXyVw",
        "outputId": "de8388b4-1a4c-4a9e-8478-0e8f0315ae56"
      },
      "outputs": [
        {
          "output_type": "display_data",
          "data": {
            "text/plain": [
              "<Figure size 720x720 with 1 Axes>"
            ],
            "image/png": "[encoded data removed]"
          },
          "metadata": {
            "needs_background": "light"
          }
        }
      ],
      "source": [
        "# summarize history for MAE\n",
        "fig_acc = plt.figure(figsize=(10, 10))\n",
        "plt.plot(history.history['mae'])\n",
        "plt.plot(history.history['val_mae'])\n",
        "plt.title('model MAE')\n",
        "plt.ylabel('MAE')\n",
        "plt.xlabel('epoch')\n",
        "plt.legend(['train', 'validation'], loc='upper left')\n",
        "plt.show()\n"
      ]
    },
    {
      "cell_type": "code",
      "execution_count": 76,
      "metadata": {
        "colab": {
          "base_uri": "https://localhost:8080/",
          "height": 621
        },
        "id": "6Bln9Q7KUvlu",
        "outputId": "9b5b3d37-1a86-4fec-b21e-3b7c9e8662d8"
      },
      "outputs": [
        {
          "output_type": "display_data",
          "data": {
            "text/plain": [
              "<Figure size 720x720 with 1 Axes>"
            ],
            "image/png": "[encoded data removed]"
          },
          "metadata": {
            "needs_background": "light"
          }
        }
      ],
      "source": [
        "# summarize history for Loss\n",
        "fig_acc = plt.figure(figsize=(10, 10))\n",
        "plt.plot(history.history['loss'])\n",
        "plt.plot(history.history['val_loss'])\n",
        "plt.title('model loss')\n",
        "plt.ylabel('loss')\n",
        "plt.xlabel('epoch')\n",
        "plt.legend(['train', 'validation'], loc='upper left')\n",
        "plt.show()"
      ]
    },
    {
      "cell_type": "code",
      "execution_count": 77,
      "metadata": {
        "colab": {
          "base_uri": "https://localhost:8080/"
        },
        "id": "HOIFLBFeSH1Y",
        "outputId": "edf24277-89cc-460f-8467-2fb08ad6a4da"
      },
      "outputs": [
        {
          "output_type": "stream",
          "name": "stdout",
          "text": [
            "(1062, 20, 5) (1062, 1)\n"
          ]
        }
      ],
      "source": [
        "# TEST\n",
        "from sklearn.preprocessing import MinMaxScaler\n",
        "scaler = MinMaxScaler(feature_range=(0,1))\n",
        "test = scaler.fit_transform(test)\n",
        "\n",
        "# # test,normalize = NormalizeMult(test)\n",
        "# price_test = test[:,3].reshape(len(test),1)\n",
        "\n",
        "# test_X, _ = create_dataset(test,TIME_STEPS)\n",
        "# _ , test_Y = create_dataset(price_test,TIME_STEPS)\n",
        "# print(test_X.shape,test_Y.shape)\n",
        "# test,normalize = NormalizeMult(test)\n",
        "price_test = test[:,3].reshape(len(test),1)\n",
        "\n",
        "test_X, _ = create_dataset(test,TIME_STEPS)\n",
        "_ , test_Y = create_dataset(price_test,TIME_STEPS)\n",
        "print(test_X.shape,test_Y.shape)\n",
        "\n"
      ]
    },
    {
      "cell_type": "code",
      "execution_count": 78,
      "metadata": {
        "colab": {
          "base_uri": "https://localhost:8080/"
        },
        "id": "LT5g2suWTypR",
        "outputId": "2c6bf82e-d3d9-4cd7-b741-4b5c0743c76d"
      },
      "outputs": [
        {
          "output_type": "stream",
          "name": "stdout",
          "text": [
            "34/34 - 1s - loss: 0.0067 - mae: 0.0660 - 821ms/epoch - 24ms/step\n"
          ]
        }
      ],
      "source": [
        "# Prediction\n",
        "scores_test = m.evaluate([test_X], test_Y, verbose=2)\n",
        "\n",
        "# test_Y.reshape(-1, 1)\n",
        "# price_test.reshape(-1, 1)"
      ]
    },
    {
      "cell_type": "code",
      "source": [
        "#inverse transform"
      ],
      "metadata": {
        "id": "77ZewDdhG7V3"
      },
      "execution_count": 50,
      "outputs": []
    },
    {
      "cell_type": "code",
      "source": [
        "# test_X = test.reshape(1, test.shape[0], test.shape[1])\n",
        "y_hat = m.predict(test_X)\n",
        "y_hat = y_hat.reshape(-1,1)\n",
        "y_hat = reshape_y_hat(y_hat, 1)\n",
        "\n",
        "    #反歸一化\n",
        "y_hat = scaler.inverse_transform(results)\n"
      ],
      "metadata": {
        "colab": {
          "base_uri": "https://localhost:8080/",
          "height": 336
        },
        "id": "bzWOvKULHsVh",
        "outputId": "2baac2db-7dd8-4645-d175-b6c776167cb7"
      },
      "execution_count": 82,
      "outputs": [
        {
          "output_type": "error",
          "ename": "ValueError",
          "evalue": "ignored",
          "traceback": [
            "\u001b[0;31m---------------------------------------------------------------------------\u001b[0m",
            "\u001b[0;31mValueError\u001b[0m                                Traceback (most recent call last)",
            "\u001b[0;32m<ipython-input-82-bd1a986a3536>\u001b[0m in \u001b[0;36m<module>\u001b[0;34m()\u001b[0m\n\u001b[1;32m      5\u001b[0m \u001b[0;34m\u001b[0m\u001b[0m\n\u001b[1;32m      6\u001b[0m     \u001b[0;31m#反歸一化\u001b[0m\u001b[0;34m\u001b[0m\u001b[0;34m\u001b[0m\u001b[0;34m\u001b[0m\u001b[0m\n\u001b[0;32m----> 7\u001b[0;31m \u001b[0my_hat\u001b[0m \u001b[0;34m=\u001b[0m \u001b[0mscaler\u001b[0m\u001b[0;34m.\u001b[0m\u001b[0minverse_transform\u001b[0m\u001b[0;34m(\u001b[0m\u001b[0mresults\u001b[0m\u001b[0;34m)\u001b[0m\u001b[0;34m\u001b[0m\u001b[0;34m\u001b[0m\u001b[0m\n\u001b[0m",
            "\u001b[0;32m/usr/local/lib/python3.7/dist-packages/sklearn/preprocessing/_data.py\u001b[0m in \u001b[0;36minverse_transform\u001b[0;34m(self, X)\u001b[0m\n\u001b[1;32m    527\u001b[0m         )\n\u001b[1;32m    528\u001b[0m \u001b[0;34m\u001b[0m\u001b[0m\n\u001b[0;32m--> 529\u001b[0;31m         \u001b[0mX\u001b[0m \u001b[0;34m-=\u001b[0m \u001b[0mself\u001b[0m\u001b[0;34m.\u001b[0m\u001b[0mmin_\u001b[0m\u001b[0;34m\u001b[0m\u001b[0;34m\u001b[0m\u001b[0m\n\u001b[0m\u001b[1;32m    530\u001b[0m         \u001b[0mX\u001b[0m \u001b[0;34m/=\u001b[0m \u001b[0mself\u001b[0m\u001b[0;34m.\u001b[0m\u001b[0mscale_\u001b[0m\u001b[0;34m\u001b[0m\u001b[0;34m\u001b[0m\u001b[0m\n\u001b[1;32m    531\u001b[0m         \u001b[0;32mreturn\u001b[0m \u001b[0mX\u001b[0m\u001b[0;34m\u001b[0m\u001b[0;34m\u001b[0m\u001b[0m\n",
            "\u001b[0;31mValueError\u001b[0m: non-broadcastable output operand with shape (1062,1) doesn't match the broadcast shape (1062,5)"
          ]
        }
      ]
    },
    {
      "cell_type": "code",
      "execution_count": 80,
      "metadata": {
        "colab": {
          "base_uri": "https://localhost:8080/"
        },
        "id": "udEkCATeF7tf",
        "outputId": "14395c15-99e0-489a-8995-7c89e394652b"
      },
      "outputs": [
        {
          "output_type": "execute_result",
          "data": {
            "text/plain": [
              "array([[0.7396428 ],\n",
              "       [0.7262522 ],\n",
              "       [0.74354464],\n",
              "       ...,\n",
              "       [0.93785965],\n",
              "       [0.93746346],\n",
              "       [0.93756115]], dtype=float32)"
            ]
          },
          "metadata": {},
          "execution_count": 80
        }
      ],
      "source": [
        "# results = m.predict([test_X])\n",
        "y_hat"
      ]
    },
    {
      "cell_type": "code",
      "execution_count": 67,
      "metadata": {
        "id": "_sbHmGJF11Kp"
      },
      "outputs": [],
      "source": [
        "def reshape_y_hat(y_hat,dim):\n",
        "    re_y = []\n",
        "    i = 0\n",
        "    while i < len(y_hat):\n",
        "        tmp = []\n",
        "        for j in range(dim):\n",
        "            tmp.append(y_hat[i+j])\n",
        "        i = i + dim\n",
        "        re_y.append(tmp)\n",
        "    re_y = np.array(re_y, dtype='float64')\n",
        "    return re_y\n"
      ]
    },
    {
      "cell_type": "code",
      "execution_count": null,
      "metadata": {
        "id": "SpLmAHq247_e"
      },
      "outputs": [],
      "source": [
        "# test.shape\n",
        "# if len(test.shape) == 1:\n",
        "#         testY = testY.reshape(-1, 1)\n"
      ]
    },
    {
      "cell_type": "code",
      "execution_count": 57,
      "metadata": {
        "id": "2Ngjzn9qWAWq"
      },
      "outputs": [],
      "source": [
        "# results = m.predict([test_X])"
      ]
    },
    {
      "cell_type": "code",
      "execution_count": 58,
      "metadata": {
        "id": "TH43DtVgma9I"
      },
      "outputs": [],
      "source": [
        "# scaler.inverse_transform(price_test)\n",
        "# results =scaler.inverse_transform(results)"
      ]
    },
    {
      "cell_type": "code",
      "execution_count": 74,
      "metadata": {
        "colab": {
          "base_uri": "https://localhost:8080/",
          "height": 299
        },
        "id": "EKJ7eRiBWV0o",
        "outputId": "8b67a8d5-5959-4acf-c953-a9d5dd7d5cbd"
      },
      "outputs": [
        {
          "output_type": "error",
          "ename": "ValueError",
          "evalue": "ignored",
          "traceback": [
            "\u001b[0;31m---------------------------------------------------------------------------\u001b[0m",
            "\u001b[0;31mValueError\u001b[0m                                Traceback (most recent call last)",
            "\u001b[0;32m<ipython-input-74-e89e4fe10f2f>\u001b[0m in \u001b[0;36m<module>\u001b[0;34m()\u001b[0m\n\u001b[0;32m----> 1\u001b[0;31m \u001b[0mresults\u001b[0m\u001b[0;34m=\u001b[0m\u001b[0mscaler\u001b[0m\u001b[0;34m.\u001b[0m\u001b[0minverse_transform\u001b[0m\u001b[0;34m(\u001b[0m\u001b[0mresults\u001b[0m\u001b[0;34m)\u001b[0m\u001b[0;34m\u001b[0m\u001b[0;34m\u001b[0m\u001b[0m\n\u001b[0m",
            "\u001b[0;32m/usr/local/lib/python3.7/dist-packages/sklearn/preprocessing/_data.py\u001b[0m in \u001b[0;36minverse_transform\u001b[0;34m(self, X)\u001b[0m\n\u001b[1;32m    527\u001b[0m         )\n\u001b[1;32m    528\u001b[0m \u001b[0;34m\u001b[0m\u001b[0m\n\u001b[0;32m--> 529\u001b[0;31m         \u001b[0mX\u001b[0m \u001b[0;34m-=\u001b[0m \u001b[0mself\u001b[0m\u001b[0;34m.\u001b[0m\u001b[0mmin_\u001b[0m\u001b[0;34m\u001b[0m\u001b[0;34m\u001b[0m\u001b[0m\n\u001b[0m\u001b[1;32m    530\u001b[0m         \u001b[0mX\u001b[0m \u001b[0;34m/=\u001b[0m \u001b[0mself\u001b[0m\u001b[0;34m.\u001b[0m\u001b[0mscale_\u001b[0m\u001b[0;34m\u001b[0m\u001b[0;34m\u001b[0m\u001b[0m\n\u001b[1;32m    531\u001b[0m         \u001b[0;32mreturn\u001b[0m \u001b[0mX\u001b[0m\u001b[0;34m\u001b[0m\u001b[0;34m\u001b[0m\u001b[0m\n",
            "\u001b[0;31mValueError\u001b[0m: non-broadcastable output operand with shape (1062,1) doesn't match the broadcast shape (1062,5)"
          ]
        }
      ],
      "source": [
        "results=scaler.inverse_transform(results)"
      ]
    },
    {
      "cell_type": "code",
      "execution_count": 72,
      "metadata": {
        "colab": {
          "base_uri": "https://localhost:8080/",
          "height": 621
        },
        "id": "B_S25lapWdjD",
        "outputId": "daadaffd-1ff4-4a20-d3e0-11efa02b1c04"
      },
      "outputs": [
        {
          "output_type": "display_data",
          "data": {
            "text/plain": [
              "<Figure size 720x720 with 1 Axes>"
            ],
            "image/png": "[encoded data removed]"
          },
          "metadata": {
            "needs_background": "light"
          }
        }
      ],
      "source": [
        "fig_acc = plt.figure(figsize=(10, 10))\n",
        "plt.plot(y_hat)\n",
        "plt.plot(test_Y)\n",
        "plt.title('real vs pred')\n",
        "plt.ylabel('value')\n",
        "plt.xlabel('Date')\n",
        "plt.legend(['pred', 'real'], loc='upper left')\n",
        "plt.show()"
      ]
    },
    {
      "cell_type": "code",
      "execution_count": 73,
      "metadata": {
        "colab": {
          "base_uri": "https://localhost:8080/"
        },
        "id": "P9RiKNBsXYex",
        "outputId": "71ce6146-2e47-497c-bbdb-aeefa3d51393"
      },
      "outputs": [
        {
          "output_type": "stream",
          "name": "stdout",
          "text": [
            "RMSE: 0.08176693967602552\n",
            "MAE: 0.06602867746798506\n"
          ]
        }
      ],
      "source": [
        "from sklearn.metrics import mean_squared_error, mean_absolute_error\n",
        "# Get the root mean squared error (RMSE)\n",
        "rmse = np.sqrt(np.mean(((results- test_Y) ** 2)))\n",
        "print('RMSE: '+str(rmse))\n",
        "  #mean absolute error\n",
        "mae = mean_absolute_error(test_Y, results)\n",
        "print('MAE: '+str(mae))\n",
        "\n"
      ]
    },
    {
      "cell_type": "markdown",
      "metadata": {
        "id": "3SYnk1lMX-nq"
      },
      "source": [
        "Since the model has good results we will be able now to predict the next few days...."
      ]
    },
    {
      "cell_type": "code",
      "execution_count": null,
      "metadata": {
        "id": "h5N9x4ZMxC6B"
      },
      "outputs": [],
      "source": [
        "#######"
      ]
    }
  ],
  "metadata": {
    "accelerator": "GPU",
    "colab": {
      "name": "biltm-attention.ipynb",
      "provenance": []
    },
    "kernelspec": {
      "display_name": "Python 3",
      "name": "python3"
    },
    "language_info": {
      "name": "python"
    }
  },
  "nbformat": 4,
  "nbformat_minor": 0
}