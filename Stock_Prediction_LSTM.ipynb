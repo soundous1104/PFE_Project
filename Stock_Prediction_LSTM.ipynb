{
  "nbformat": 4,
  "nbformat_minor": 0,
  "metadata": {
    "colab": {
      "name": "BOA-LSTM.ipynb",
      "provenance": []
    },
    "kernelspec": {
      "name": "python3",
      "display_name": "Python 3"
    },
    "language_info": {
      "name": "python"
    }
  },
  "cells": [
    {
      "cell_type": "markdown",
      "source": [
        "# Bank Of Africa"
      ],
      "metadata": {
        "id": "rOioWFzkKuWS"
      }
    },
    {
      "cell_type": "code",
      "source": [
        "from traitlets.traitlets import ForwardDeclaredInstance\n",
        "from keras.models import Sequential\n",
        "from keras.layers import Dense, LSTM,Dropout,GRU\n",
        "from tensorflow.keras import regularizers\n",
        "from keras.models import Sequential\n",
        "from keras.layers import Dense, LSTM\n",
        "import pandas as pd\n",
        "from sklearn.metrics import mean_squared_error, mean_absolute_error\n",
        "import numpy as np\n",
        "import matplotlib.pyplot as plt\n",
        "from sklearn.preprocessing import MinMaxScaler\n",
        "from google.colab import drive\n",
        "drive.mount('/content/drive')"
      ],
      "metadata": {
        "colab": {
          "base_uri": "https://localhost:8080/"
        },
        "id": "R9U3Xzofnnu6",
        "outputId": "a379595a-6746-42ee-f25c-4d70cff47421"
      },
      "execution_count": 1,
      "outputs": [
        {
          "output_type": "stream",
          "name": "stdout",
          "text": [
            "Mounted at /content/drive\n"
          ]
        }
      ]
    },
    {
      "cell_type": "code",
      "execution_count": 8,
      "metadata": {
        "id": "S2NI_ewe5Jwr"
      },
      "outputs": [],
      "source": [
        "# Get the stock quote\n",
        "boa=pd.read_csv('/content/drive/MyDrive/datasetBourse/BOA.csv')\n",
        "boa.Date=pd.to_datetime(boa.Date ,format='%Y/%m/%d')\n",
        "boa.index=boa.Date\n"
      ]
    },
    {
      "cell_type": "code",
      "source": [
        "boa=boa['2000-05-20':]"
      ],
      "metadata": {
        "id": "aC6Gk1fdn-Kt"
      },
      "execution_count": 11,
      "outputs": []
    },
    {
      "cell_type": "code",
      "source": [
        "\n",
        "boa = boa.bfill()\n",
        "print(boa)"
      ],
      "metadata": {
        "colab": {
          "base_uri": "https://localhost:8080/"
        },
        "id": "Pl9MPYW2sP8V",
        "outputId": "b68ff7a2-863d-48de-d515-6573802f2694"
      },
      "execution_count": 18,
      "outputs": [
        {
          "output_type": "stream",
          "name": "stdout",
          "text": [
            "                 Date  Ouverture  Plus haut  Plus bas    Prix  Quantité\n",
            "Date                                                                   \n",
            "2000-05-22 2000-05-22      64.11      63.71     63.71   63.71   4742.22\n",
            "2000-05-23 2000-05-23      63.71      64.01     64.01   64.01   5534.28\n",
            "2000-05-24 2000-05-24      64.01      64.11     64.11   64.11   6864.54\n",
            "2000-05-25 2000-05-25      64.40      64.70     64.70   64.70  23670.46\n",
            "2000-05-26 2000-05-26      64.70      64.50     64.50   64.50   5331.19\n",
            "...               ...        ...        ...       ...     ...       ...\n",
            "2022-05-16 2022-05-16     195.00     198.00    195.00  198.00     38.00\n",
            "2022-05-17 2022-05-17     199.95     199.95    195.00  195.00   1160.00\n",
            "2022-05-18 2022-05-18     195.00     195.00    195.00  195.00   1005.00\n",
            "2022-05-19 2022-05-19     192.00     197.00    192.00  195.00   1747.00\n",
            "2022-05-20 2022-05-20     195.00     196.50    193.00  193.00  26550.00\n",
            "\n",
            "[5456 rows x 6 columns]\n"
          ]
        }
      ]
    },
    {
      "cell_type": "code",
      "source": [
        "# Create a new dataframe with only the 'Close column \n",
        "data = boa.filter(['Prix'])\n",
        "# Convert the dataframe to a numpy array\n",
        "dataset = data.values\n",
        "# Get the number of rows to train the model on\n",
        "training_data_len = int(np.ceil( len(dataset) * .7 ))\n",
        "\n",
        "training_data_len"
      ],
      "metadata": {
        "colab": {
          "base_uri": "https://localhost:8080/"
        },
        "id": "MF5kMW7WLjy0",
        "outputId": "d58994ba-9b0a-417d-f9b7-3ba393f5e72d"
      },
      "execution_count": 20,
      "outputs": [
        {
          "output_type": "execute_result",
          "data": {
            "text/plain": [
              "3820"
            ]
          },
          "metadata": {},
          "execution_count": 20
        }
      ]
    },
    {
      "cell_type": "code",
      "source": [
        "# Scale the data\n",
        "scaler = MinMaxScaler(feature_range=(0,1))\n",
        "scaled_data = scaler.fit_transform(dataset)\n",
        "scaled_data"
      ],
      "metadata": {
        "colab": {
          "base_uri": "https://localhost:8080/"
        },
        "id": "eyJ-WUHiLnxe",
        "outputId": "f9a6883a-c1c4-4be7-ced4-aad61f19f27c"
      },
      "execution_count": 21,
      "outputs": [
        {
          "output_type": "execute_result",
          "data": {
            "text/plain": [
              "array([[0.1067118 ],\n",
              "       [0.10773755],\n",
              "       [0.10807946],\n",
              "       ...,\n",
              "       [0.55561254],\n",
              "       [0.55561254],\n",
              "       [0.54877423]])"
            ]
          },
          "metadata": {},
          "execution_count": 21
        }
      ]
    },
    {
      "cell_type": "code",
      "source": [
        "# Create the training data set \n",
        "# Create the scaled training data set\n",
        "train_data = scaled_data[0:int(training_data_len), :]\n",
        "# Split the data into x_train and y_train data sets\n",
        "x_train = []\n",
        "y_train = []\n",
        "\n",
        "for i in range(20, len(train_data)):\n",
        "    x_train.append(train_data[i-20:i, 0])\n",
        "    y_train.append(train_data[i, 0])\n",
        "    if i<= 21:\n",
        "        print(x_train)\n",
        "        print(y_train)\n",
        "        print()\n",
        "        \n",
        "# Convert the x_train and y_train to numpy arrays \n",
        "x_train, y_train = np.array(x_train), np.array(y_train)\n",
        "\n",
        "# Reshape the data\n",
        "x_train = np.reshape(x_train, (x_train.shape[0], x_train.shape[1], 1))\n",
        "# x_train.shape"
      ],
      "metadata": {
        "colab": {
          "base_uri": "https://localhost:8080/"
        },
        "id": "Hqw0KaFYLtG6",
        "outputId": "86130425-2fb1-4aff-e716-fb6c9b312dd5"
      },
      "execution_count": 22,
      "outputs": [
        {
          "output_type": "stream",
          "name": "stdout",
          "text": [
            "[array([0.1067118 , 0.10773755, 0.10807946, 0.11009676, 0.10941293,\n",
            "       0.11009676, 0.10975485, 0.10941293, 0.10975485, 0.10941293,\n",
            "       0.10842138, 0.10842138, 0.10876329, 0.10876329, 0.10773755,\n",
            "       0.10773755, 0.1046945 , 0.1046945 , 0.10438677, 0.10336103])]\n",
            "[0.10301911307142612]\n",
            "\n",
            "[array([0.1067118 , 0.10773755, 0.10807946, 0.11009676, 0.10941293,\n",
            "       0.11009676, 0.10975485, 0.10941293, 0.10975485, 0.10941293,\n",
            "       0.10842138, 0.10842138, 0.10876329, 0.10876329, 0.10773755,\n",
            "       0.10773755, 0.1046945 , 0.1046945 , 0.10438677, 0.10336103]), array([0.10773755, 0.10807946, 0.11009676, 0.10941293, 0.11009676,\n",
            "       0.10975485, 0.10941293, 0.10975485, 0.10941293, 0.10842138,\n",
            "       0.10842138, 0.10876329, 0.10876329, 0.10773755, 0.10773755,\n",
            "       0.1046945 , 0.1046945 , 0.10438677, 0.10336103, 0.10301911])]\n",
            "[0.10301911307142612, 0.10370294389168118]\n",
            "\n"
          ]
        }
      ]
    },
    {
      "cell_type": "code",
      "source": [
        "# Build the GRU Block model\n",
        "model = Sequential()\n",
        "model.add(LSTM(128, return_sequences=True, input_shape=(x_train.shape[1], 1),     \n",
        "                   recurrent_dropout=0.03,\n",
        "                  ))\n",
        "\n",
        "model.add(LSTM(64, return_sequences=False,\n",
        "                   recurrent_dropout=0.02,\n",
        "                  ))\n",
        "model.add(Dense(units = 1024))\n",
        "model.add(Dense(units = 512))\n",
        "model.add(Dense(units = 256))\n",
        "model.add(Dense(units = 128))\n",
        "model.add(Dense(units = 64))\n",
        "model.add(Dense(units = 32))\n",
        "model.add(Dense(1))\n",
        "\n",
        "# model.add(LSTM(units=64,\n",
        "#                   return_sequences=True,\n",
        "#                   input_shape=(x_train.shape[1], 1),\n",
        "#                   recurrent_dropout=0.02,\n",
        "#                   recurrent_regularizer=regularizers.l2(1e-3)))\n",
        "# model.add(LSTM(units=32,\n",
        "#                   #return_sequences=True,\n",
        "#                   recurrent_dropout=0.02,\n",
        "#                   recurrent_regularizer=regularizers.l2(1e-3)))\n",
        "\n",
        "# # model.add(Dense(64, kernel_regularizer=regularizers.l2(1e-3)))\n",
        "# model.add(Dense(16, kernel_regularizer=regularizers.l2(1e-3)))\n",
        "\n",
        "# model.add(Dense(1))\n",
        "\n",
        "# Compile the model\n",
        "model.compile(optimizer='adam', loss='mean_squared_error')\n",
        "\n",
        "# Train the model\n",
        "model.fit(x_train, y_train, batch_size=32, epochs=50)"
      ],
      "metadata": {
        "colab": {
          "base_uri": "https://localhost:8080/"
        },
        "id": "fnmWEKsWL1zr",
        "outputId": "519082b8-ec76-4149-d7d9-f93013c2cff4"
      },
      "execution_count": 24,
      "outputs": [
        {
          "output_type": "stream",
          "name": "stdout",
          "text": [
            "Epoch 1/50\n",
            "119/119 [==============================] - 15s 85ms/step - loss: 0.0093\n",
            "Epoch 2/50\n",
            "119/119 [==============================] - 10s 86ms/step - loss: 5.1213e-04\n",
            "Epoch 3/50\n",
            "119/119 [==============================] - 10s 85ms/step - loss: 4.3309e-04\n",
            "Epoch 4/50\n",
            "119/119 [==============================] - 10s 85ms/step - loss: 4.9976e-04\n",
            "Epoch 5/50\n",
            "119/119 [==============================] - 10s 86ms/step - loss: 4.3532e-04\n",
            "Epoch 6/50\n",
            "119/119 [==============================] - 10s 86ms/step - loss: 4.4148e-04\n",
            "Epoch 7/50\n",
            "119/119 [==============================] - 10s 86ms/step - loss: 3.5333e-04\n",
            "Epoch 8/50\n",
            "119/119 [==============================] - 12s 102ms/step - loss: 4.3001e-04\n",
            "Epoch 9/50\n",
            "119/119 [==============================] - 10s 86ms/step - loss: 3.5711e-04\n",
            "Epoch 10/50\n",
            "119/119 [==============================] - 10s 86ms/step - loss: 3.3269e-04\n",
            "Epoch 11/50\n",
            "119/119 [==============================] - 10s 86ms/step - loss: 4.5884e-04\n",
            "Epoch 12/50\n",
            "119/119 [==============================] - 10s 85ms/step - loss: 3.5713e-04\n",
            "Epoch 13/50\n",
            "119/119 [==============================] - 10s 86ms/step - loss: 3.9203e-04\n",
            "Epoch 14/50\n",
            "119/119 [==============================] - 10s 85ms/step - loss: 3.4118e-04\n",
            "Epoch 15/50\n",
            "119/119 [==============================] - 10s 85ms/step - loss: 4.8823e-04\n",
            "Epoch 16/50\n",
            "119/119 [==============================] - 10s 86ms/step - loss: 4.5708e-04\n",
            "Epoch 17/50\n",
            "119/119 [==============================] - 10s 86ms/step - loss: 2.7341e-04\n",
            "Epoch 18/50\n",
            "119/119 [==============================] - 10s 86ms/step - loss: 3.1797e-04\n",
            "Epoch 19/50\n",
            "119/119 [==============================] - 10s 86ms/step - loss: 3.1620e-04\n",
            "Epoch 20/50\n",
            "119/119 [==============================] - 10s 85ms/step - loss: 3.4991e-04\n",
            "Epoch 21/50\n",
            "119/119 [==============================] - 10s 85ms/step - loss: 2.6101e-04\n",
            "Epoch 22/50\n",
            "119/119 [==============================] - 10s 85ms/step - loss: 2.8616e-04\n",
            "Epoch 23/50\n",
            "119/119 [==============================] - 10s 87ms/step - loss: 2.5806e-04\n",
            "Epoch 24/50\n",
            "119/119 [==============================] - 10s 86ms/step - loss: 3.0611e-04\n",
            "Epoch 25/50\n",
            "119/119 [==============================] - 10s 85ms/step - loss: 2.5693e-04\n",
            "Epoch 26/50\n",
            "119/119 [==============================] - 10s 85ms/step - loss: 3.1225e-04\n",
            "Epoch 27/50\n",
            "119/119 [==============================] - 10s 85ms/step - loss: 3.2634e-04\n",
            "Epoch 28/50\n",
            "119/119 [==============================] - 10s 85ms/step - loss: 2.5334e-04\n",
            "Epoch 29/50\n",
            "119/119 [==============================] - 10s 86ms/step - loss: 3.4882e-04\n",
            "Epoch 30/50\n",
            "119/119 [==============================] - 10s 87ms/step - loss: 2.5450e-04\n",
            "Epoch 31/50\n",
            "119/119 [==============================] - 12s 98ms/step - loss: 2.1288e-04\n",
            "Epoch 32/50\n",
            "119/119 [==============================] - 10s 86ms/step - loss: 2.0409e-04\n",
            "Epoch 33/50\n",
            "119/119 [==============================] - 10s 85ms/step - loss: 2.6074e-04\n",
            "Epoch 34/50\n",
            "119/119 [==============================] - 10s 86ms/step - loss: 2.8307e-04\n",
            "Epoch 35/50\n",
            "119/119 [==============================] - 10s 86ms/step - loss: 2.6500e-04\n",
            "Epoch 36/50\n",
            "119/119 [==============================] - 10s 86ms/step - loss: 2.1732e-04\n",
            "Epoch 37/50\n",
            "119/119 [==============================] - 10s 86ms/step - loss: 2.7344e-04\n",
            "Epoch 38/50\n",
            "119/119 [==============================] - 10s 86ms/step - loss: 2.0921e-04\n",
            "Epoch 39/50\n",
            "119/119 [==============================] - 10s 85ms/step - loss: 2.2732e-04\n",
            "Epoch 40/50\n",
            "119/119 [==============================] - 10s 85ms/step - loss: 2.2827e-04\n",
            "Epoch 41/50\n",
            "119/119 [==============================] - 10s 86ms/step - loss: 2.3327e-04\n",
            "Epoch 42/50\n",
            "119/119 [==============================] - 10s 85ms/step - loss: 2.5740e-04\n",
            "Epoch 43/50\n",
            "119/119 [==============================] - 10s 85ms/step - loss: 2.8246e-04\n",
            "Epoch 44/50\n",
            "119/119 [==============================] - 10s 86ms/step - loss: 2.5042e-04\n",
            "Epoch 45/50\n",
            "119/119 [==============================] - 10s 84ms/step - loss: 2.4127e-04\n",
            "Epoch 46/50\n",
            "119/119 [==============================] - 10s 86ms/step - loss: 1.7460e-04\n",
            "Epoch 47/50\n",
            "119/119 [==============================] - 10s 86ms/step - loss: 1.9260e-04\n",
            "Epoch 48/50\n",
            "119/119 [==============================] - 10s 85ms/step - loss: 1.8582e-04\n",
            "Epoch 49/50\n",
            "119/119 [==============================] - 10s 86ms/step - loss: 5.4558e-04\n",
            "Epoch 50/50\n",
            "119/119 [==============================] - 10s 86ms/step - loss: 2.0633e-04\n"
          ]
        },
        {
          "output_type": "execute_result",
          "data": {
            "text/plain": [
              "<keras.callbacks.History at 0x7f6782ce0710>"
            ]
          },
          "metadata": {},
          "execution_count": 24
        }
      ]
    },
    {
      "cell_type": "code",
      "source": [
        "# Create the testing data set\n",
        "\n",
        "# Create a new array containing scaled values from index 1543 to 2002 \n",
        "test_data = scaled_data[training_data_len - 20: , :]\n",
        "# Create the data sets x_test and y_test\n",
        "x_test = []\n",
        "y_test = dataset[training_data_len:, :]\n",
        "for i in range(20, len(test_data)):\n",
        "    x_test.append(test_data[i-20:i, 0])\n",
        "    \n",
        "# Convert the data to a numpy array\n",
        "x_test = np.array(x_test)\n",
        "\n",
        "# Reshape the data\n",
        "x_test = np.reshape(x_test, (x_test.shape[0], x_test.shape[1], 1 ))\n",
        "\n",
        "# Get the models predicted price values \n",
        "predictions = model.predict(x_test)\n",
        "predictions = scaler.inverse_transform(predictions)\n",
        "\n"
      ],
      "metadata": {
        "id": "M3Qg-RmFMEv8"
      },
      "execution_count": 25,
      "outputs": []
    },
    {
      "cell_type": "code",
      "source": [
        "# Plot the data\n",
        "train = data[:training_data_len]\n",
        "valid = data[training_data_len:]\n",
        "valid['Predictions'] = predictions\n",
        "# Visualize the data\n",
        "plt.figure(figsize=(20,9))\n",
        "plt.title('Model')\n",
        "plt.xlabel('Date', fontsize=18)\n",
        "plt.ylabel('Close Price Managem DHS', fontsize=18)\n",
        "plt.plot(train['Prix'])\n",
        "plt.plot(valid[['Prix', 'Predictions']])\n",
        "plt.legend(['val', 'Train', 'Predictions'], loc='lower right')\n",
        "plt.show()"
      ],
      "metadata": {
        "colab": {
          "base_uri": "https://localhost:8080/",
          "height": 679
        },
        "id": "rAG7h-QzP0Tc",
        "outputId": "6ce15836-41c9-48be-a980-fbde707103ee"
      },
      "execution_count": 27,
      "outputs": [
        {
          "output_type": "stream",
          "name": "stderr",
          "text": [
            "/usr/local/lib/python3.7/dist-packages/ipykernel_launcher.py:4: SettingWithCopyWarning: \n",
            "A value is trying to be set on a copy of a slice from a DataFrame.\n",
            "Try using .loc[row_indexer,col_indexer] = value instead\n",
            "\n",
            "See the caveats in the documentation: https://pandas.pydata.org/pandas-docs/stable/user_guide/indexing.html#returning-a-view-versus-a-copy\n",
            "  after removing the cwd from sys.path.\n"
          ]
        },
        {
          "output_type": "display_data",
          "data": {
            "text/plain": [
              "<Figure size 1440x648 with 1 Axes>"
            ],
            "image/png": "[encoded data removed]"
          },
          "metadata": {
            "needs_background": "light"
          }
        }
      ]
    },
    {
      "cell_type": "code",
      "source": [
        "rmse=np.sqrt(np.mean(((predictions- y_test)**2)))\n",
        "rmse\n",
        "\n",
        "# Get the root mean squared error (RMSE)\n",
        "rmse = np.sqrt(np.mean(((predictions- y_test) ** 2)))\n",
        "print('RMSE: '+str(rmse))\n",
        "  #mean absolute error\n",
        "mae = mean_absolute_error(y_test, predictions)\n",
        "print('MAE: '+str(mae))"
      ],
      "metadata": {
        "colab": {
          "base_uri": "https://localhost:8080/"
        },
        "id": "R23yeb0EWWlQ",
        "outputId": "1f00a243-aaa6-47c2-b0b6-809f4dd2c2fb"
      },
      "execution_count": 28,
      "outputs": [
        {
          "output_type": "stream",
          "name": "stdout",
          "text": [
            "RMSE: 3.8943439654299534\n",
            "MAE: 3.1533563683843258\n"
          ]
        }
      ]
    },
    {
      "cell_type": "code",
      "source": [
        "valid"
      ],
      "metadata": {
        "colab": {
          "base_uri": "https://localhost:8080/",
          "height": 455
        },
        "id": "w_Mk3aYuMJYj",
        "outputId": "abfe8c78-b0eb-4e9c-8cea-8746df1b16f9"
      },
      "execution_count": 29,
      "outputs": [
        {
          "output_type": "execute_result",
          "data": {
            "text/plain": [
              "              Prix  Predictions\n",
              "Date                           \n",
              "2015-10-21  217.95   213.717621\n",
              "2015-10-22  216.00   213.961639\n",
              "2015-10-23  218.00   212.584106\n",
              "2015-10-26  218.00   213.539459\n",
              "2015-10-27  218.00   213.895386\n",
              "...            ...          ...\n",
              "2022-05-16  198.00   193.782440\n",
              "2022-05-17  195.00   194.958954\n",
              "2022-05-18  195.00   193.157455\n",
              "2022-05-19  195.00   192.433975\n",
              "2022-05-20  193.00   192.256653\n",
              "\n",
              "[1636 rows x 2 columns]"
            ],
            "text/html": [
              "\n",
              "  <div id=\"df-211e674a-fb7c-41da-b53f-dc7d8dd6eb24\">\n",
              "    <div class=\"colab-df-container\">\n",
              "      <div>\n",
              "<style scoped>\n",
              "    .dataframe tbody tr th:only-of-type {\n",
              "        vertical-align: middle;\n",
              "    }\n",
              "\n",
              "    .dataframe tbody tr th {\n",
              "        vertical-align: top;\n",
              "    }\n",
              "\n",
              "    .dataframe thead th {\n",
              "        text-align: right;\n",
              "    }\n",
              "</style>\n",
              "<table border=\"1\" class=\"dataframe\">\n",
              "  <thead>\n",
              "    <tr style=\"text-align: right;\">\n",
              "      <th></th>\n",
              "      <th>Prix</th>\n",
              "      <th>Predictions</th>\n",
              "    </tr>\n",
              "    <tr>\n",
              "      <th>Date</th>\n",
              "      <th></th>\n",
              "      <th></th>\n",
              "    </tr>\n",
              "  </thead>\n",
              "  <tbody>\n",
              "    <tr>\n",
              "      <th>2015-10-21</th>\n",
              "      <td>217.95</td>\n",
              "      <td>213.717621</td>\n",
              "    </tr>\n",
              "    <tr>\n",
              "      <th>2015-10-22</th>\n",
              "      <td>216.00</td>\n",
              "      <td>213.961639</td>\n",
              "    </tr>\n",
              "    <tr>\n",
              "      <th>2015-10-23</th>\n",
              "      <td>218.00</td>\n",
              "      <td>212.584106</td>\n",
              "    </tr>\n",
              "    <tr>\n",
              "      <th>2015-10-26</th>\n",
              "      <td>218.00</td>\n",
              "      <td>213.539459</td>\n",
              "    </tr>\n",
              "    <tr>\n",
              "      <th>2015-10-27</th>\n",
              "      <td>218.00</td>\n",
              "      <td>213.895386</td>\n",
              "    </tr>\n",
              "    <tr>\n",
              "      <th>...</th>\n",
              "      <td>...</td>\n",
              "      <td>...</td>\n",
              "    </tr>\n",
              "    <tr>\n",
              "      <th>2022-05-16</th>\n",
              "      <td>198.00</td>\n",
              "      <td>193.782440</td>\n",
              "    </tr>\n",
              "    <tr>\n",
              "      <th>2022-05-17</th>\n",
              "      <td>195.00</td>\n",
              "      <td>194.958954</td>\n",
              "    </tr>\n",
              "    <tr>\n",
              "      <th>2022-05-18</th>\n",
              "      <td>195.00</td>\n",
              "      <td>193.157455</td>\n",
              "    </tr>\n",
              "    <tr>\n",
              "      <th>2022-05-19</th>\n",
              "      <td>195.00</td>\n",
              "      <td>192.433975</td>\n",
              "    </tr>\n",
              "    <tr>\n",
              "      <th>2022-05-20</th>\n",
              "      <td>193.00</td>\n",
              "      <td>192.256653</td>\n",
              "    </tr>\n",
              "  </tbody>\n",
              "</table>\n",
              "<p>1636 rows × 2 columns</p>\n",
              "</div>\n",
              "      <button class=\"colab-df-convert\" onclick=\"convertToInteractive('df-211e674a-fb7c-41da-b53f-dc7d8dd6eb24')\"\n",
              "              title=\"Convert this dataframe to an interactive table.\"\n",
              "              style=\"display:none;\">\n",
              "        \n",
              "  <svg xmlns=\"http://www.w3.org/2000/svg\" height=\"24px\"viewBox=\"0 0 24 24\"\n",
              "       width=\"24px\">\n",
              "    <path d=\"M0 0h24v24H0V0z\" fill=\"none\"/>\n",
              "    <path d=\"M18.56 5.44l.94 2.06.94-2.06 2.06-.94-2.06-.94-.94-2.06-.94 2.06-2.06.94zm-11 1L8.5 8.5l.94-2.06 2.06-.94-2.06-.94L8.5 2.5l-.94 2.06-2.06.94zm10 10l.94 2.06.94-2.06 2.06-.94-2.06-.94-.94-2.06-.94 2.06-2.06.94z\"/><path d=\"M17.41 7.96l-1.37-1.37c-.4-.4-.92-.59-1.43-.59-.52 0-1.04.2-1.43.59L10.3 9.45l-7.72 7.72c-.78.78-.78 2.05 0 2.83L4 21.41c.39.39.9.59 1.41.59.51 0 1.02-.2 1.41-.59l7.78-7.78 2.81-2.81c.8-.78.8-2.07 0-2.86zM5.41 20L4 18.59l7.72-7.72 1.47 1.35L5.41 20z\"/>\n",
              "  </svg>\n",
              "      </button>\n",
              "      \n",
              "  <style>\n",
              "    .colab-df-container {\n",
              "      display:flex;\n",
              "      flex-wrap:wrap;\n",
              "      gap: 12px;\n",
              "    }\n",
              "\n",
              "    .colab-df-convert {\n",
              "      background-color: #E8F0FE;\n",
              "      border: none;\n",
              "      border-radius: 50%;\n",
              "      cursor: pointer;\n",
              "      display: none;\n",
              "      fill: #1967D2;\n",
              "      height: 32px;\n",
              "      padding: 0 0 0 0;\n",
              "      width: 32px;\n",
              "    }\n",
              "\n",
              "    .colab-df-convert:hover {\n",
              "      background-color: #E2EBFA;\n",
              "      box-shadow: 0px 1px 2px rgba(60, 64, 67, 0.3), 0px 1px 3px 1px rgba(60, 64, 67, 0.15);\n",
              "      fill: #174EA6;\n",
              "    }\n",
              "\n",
              "    [theme=dark] .colab-df-convert {\n",
              "      background-color: #3B4455;\n",
              "      fill: #D2E3FC;\n",
              "    }\n",
              "\n",
              "    [theme=dark] .colab-df-convert:hover {\n",
              "      background-color: #434B5C;\n",
              "      box-shadow: 0px 1px 3px 1px rgba(0, 0, 0, 0.15);\n",
              "      filter: drop-shadow(0px 1px 2px rgba(0, 0, 0, 0.3));\n",
              "      fill: #FFFFFF;\n",
              "    }\n",
              "  </style>\n",
              "\n",
              "      <script>\n",
              "        const buttonEl =\n",
              "          document.querySelector('#df-211e674a-fb7c-41da-b53f-dc7d8dd6eb24 button.colab-df-convert');\n",
              "        buttonEl.style.display =\n",
              "          google.colab.kernel.accessAllowed ? 'block' : 'none';\n",
              "\n",
              "        async function convertToInteractive(key) {\n",
              "          const element = document.querySelector('#df-211e674a-fb7c-41da-b53f-dc7d8dd6eb24');\n",
              "          const dataTable =\n",
              "            await google.colab.kernel.invokeFunction('convertToInteractive',\n",
              "                                                     [key], {});\n",
              "          if (!dataTable) return;\n",
              "\n",
              "          const docLinkHtml = 'Like what you see? Visit the ' +\n",
              "            '<a target=\"_blank\" href=https://colab.research.google.com/notebooks/data_table.ipynb>data table notebook</a>'\n",
              "            + ' to learn more about interactive tables.';\n",
              "          element.innerHTML = '';\n",
              "          dataTable['output_type'] = 'display_data';\n",
              "          await google.colab.output.renderOutput(dataTable, element);\n",
              "          const docLink = document.createElement('div');\n",
              "          docLink.innerHTML = docLinkHtml;\n",
              "          element.appendChild(docLink);\n",
              "        }\n",
              "      </script>\n",
              "    </div>\n",
              "  </div>\n",
              "  "
            ]
          },
          "metadata": {},
          "execution_count": 29
        }
      ]
    }
  ]
}